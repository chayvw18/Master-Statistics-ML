{
  "nbformat": 4,
  "nbformat_minor": 0,
  "metadata": {
    "colab": {
      "provenance": [],
      "mount_file_id": "1k-h7Sv6aDKwvysdAPoVMfbzM1ANjOb15",
      "authorship_tag": "ABX9TyO2tNDyX3VnEjg0qD4+I5I/",
      "include_colab_link": true
    },
    "kernelspec": {
      "name": "python3",
      "display_name": "Python 3"
    },
    "language_info": {
      "name": "python"
    }
  },
  "cells": [
    {
      "cell_type": "markdown",
      "metadata": {
        "id": "view-in-github",
        "colab_type": "text"
      },
      "source": [
        "<a href=\"https://colab.research.google.com/github/chayvw18/Master-Statistics-ML/blob/main/Hypothesis_Testing.ipynb\" target=\"_parent\"><img src=\"https://colab.research.google.com/assets/colab-badge.svg\" alt=\"Open In Colab\"/></a>"
      ]
    },
    {
      "cell_type": "code",
      "source": [
        "%cd /content/drive/MyDrive/MasterStats"
      ],
      "metadata": {
        "colab": {
          "base_uri": "https://localhost:8080/"
        },
        "id": "y8Rh5x--f94J",
        "outputId": "ff25f0ed-38f2-4f9c-9a8b-c93158c5f597"
      },
      "execution_count": 2,
      "outputs": [
        {
          "output_type": "stream",
          "name": "stdout",
          "text": [
            "/content/drive/MyDrive/MasterStats\n"
          ]
        }
      ]
    },
    {
      "cell_type": "markdown",
      "source": [
        "Statistics are all about P-Values especially in inferential statistics\n",
        "When you do real research / experiments the null hypothesis distribution comes from a formula that is based on assumptions, according to the statistical test that we are doing. It is also based on Degrees of Freedom\n",
        "The Alternative Hypothesis value is what we empirically gather. You can think of it as a distribution of sample statistics but in practice you just end up with one value and that value will be relative to the null hypothesis distribution"
      ],
      "metadata": {
        "id": "cyH7fpYsdfj-"
      }
    },
    {
      "cell_type": "markdown",
      "source": [
        "The P stands for probability , the probability of observing an effect as large or larger than what we observed in the data, given that the null hypothesis is true. You can not prove the alternative hypothesis true. We can only compute the probability that the test statistic associated with HA could be observed given that there is no true effect."
      ],
      "metadata": {
        "id": "0i1dTWm_hjri"
      }
    },
    {
      "cell_type": "markdown",
      "source": [
        "\"given that the null hypothesis is actually the true state of the world\""
      ],
      "metadata": {
        "id": "xsJgKQkNh809"
      }
    },
    {
      "cell_type": "markdown",
      "source": [
        "P-Values are probabilites that range from 0 to 1, values closer to zero indicate low probability of HA|H0, and values closer to one indicate high probability of HA|H0\n",
        "Values closer to the tail have smaller p-values and values closer to the center have higher p-values"
      ],
      "metadata": {
        "id": "8u15gENXiYGB"
      }
    },
    {
      "cell_type": "markdown",
      "source": [
        "A finding is called statically significant if the test statistic is greater than a threshold if p(HA)<p(a). Threshold is arbitrary; common values are p<.05 -r p<.01"
      ],
      "metadata": {
        "id": "YTBTO90UiX8J"
      }
    },
    {
      "cell_type": "markdown",
      "source": [
        "Tails of a distrubtion , each side of the H0 distribution is unlikely\n",
        "The p-value threshold refers to the entire area of significance if true.\n",
        "When you're only testing one tail it is called a \"one tailed\" test a=.05\n",
        "if you are testing both tails you then divide alpha by two a=.025 a=.025 because you want a total of .05% from the entire distrubtion"
      ],
      "metadata": {
        "id": "rCTFCTPoiX35"
      }
    },
    {
      "cell_type": "markdown",
      "source": [
        "Hypothesis should be specific as possible(one-tailed) but statistical test are nearly always done two tailed"
      ],
      "metadata": {
        "id": "8bwyAbBSlUKA"
      }
    },
    {
      "cell_type": "markdown",
      "source": [
        "**The p-value is the probability of observing empirical test statistic, so a sample parameter from your experiment from our data giventhe null hypothesis is actually true. The idea is when the probability is very small it is very unlikely to observe a value in our data as large as you did given the H0 Distribution. Then we can say that it is statistically significant**"
      ],
      "metadata": {
        "id": "gkRxRdkGlUAY"
      }
    },
    {
      "cell_type": "markdown",
      "source": [
        "*** There are other ways to estimate our confidence on how close your results is to the population parameter, which is the confidence interval***"
      ],
      "metadata": {
        "id": "rqjSlB_6lTlJ"
      }
    },
    {
      "cell_type": "markdown",
      "source": [
        "***How to compute a p-value***\n",
        "There are several ways to compute the p-value and it depends on the specific statistical test and assumptions made. The interpretation of the p value is always the same regardless of how the p value was computed."
      ],
      "metadata": {
        "id": "nEDDcKDVp2FN"
      }
    },
    {
      "cell_type": "markdown",
      "source": [
        "P-Z combinations to memorize\n",
        "When you have sample a normal Guassian distribution the units are in Standard Deviation then we can say that 68.3% of the data is contained within two std. around the mean -1/+1\n",
        "\n",
        "*   68.3% -1/+1\n",
        "*   95.5% -2/+2\n",
        "*   99.7% -3/+3\n",
        "\n"
      ],
      "metadata": {
        "id": "oBXShIThp184"
      }
    },
    {
      "cell_type": "markdown",
      "source": [
        "**P-Z Pairs continued **\n",
        "* p = .05 z = 1.64\n",
        "* p = .01 z = 2.32\n",
        "* p = .001 z = 3.09\n",
        "\n",
        "If we take .05 for our statistical significance threshold then that means that the our observed data are .164 std away from the mean of the H0 distrubtion"
      ],
      "metadata": {
        "id": "P_xExWuv0ZkF"
      }
    },
    {
      "cell_type": "markdown",
      "source": [
        "**Degrees of Freedom**\n",
        "\n",
        "Degress of Freedom determine the shape of the H0 Dist\n",
        "Higher DF generally indicates more power to reject the null hyothesis related to statistical power. DF also a way of checking an ANOVA table for accuracy and understanding\n",
        "***General formula to compute df. DF = N-k(N Data points, k parameters)***\n",
        "\n"
      ],
      "metadata": {
        "id": "4N4KQB9e0Zg6"
      }
    },
    {
      "cell_type": "markdown",
      "source": [],
      "metadata": {
        "id": "-nPoToyV0Zdh"
      }
    },
    {
      "cell_type": "markdown",
      "source": [
        "**Type I and Type II Errors**\n",
        "Reality about H0\n",
        "Its two ways of being correct and two ways of making a mistake\n",
        "***REJCT H0***\n",
        "* *H0 is false* -True positive(1-Beta) the null hypothesis is false and we have rejected it\n",
        "* *H0 is true*- Type 1/false positive(alpha)stated that the null hypothesis isnt true and to favor the HA but that is wrong\n",
        "***Dont REJCT H0***\n",
        "* *H0 is true* - True negative(1-alpha) we dont accept the null hypothesis we just dont reject it * the effect is not statiscally significant*\n",
        "* *H0 is false*- False negative/Type II(Beta) the test statistic was smaller than our significance threshold HA is true but we stated H0 was true\n"
      ],
      "metadata": {
        "id": "7hJve-Zh4nRr"
      }
    },
    {
      "cell_type": "markdown",
      "source": [
        "**Statistical Trade Off**\n",
        "Reducing Type 1 Errors will also reduce true positives, you end up moving pass the peak of this alternative hypothesis dist, and increasing True Positives will also increase Type 1 errors"
      ],
      "metadata": {
        "id": "_2TisEeS4nM_"
      }
    },
    {
      "cell_type": "markdown",
      "source": [
        "***How to minimize statistical errors***\n",
        "Essentially you should aim to minimize the overlap in the distrubutions of H0 and HA\n",
        "* Increase the distance between the distributions(bigger effects). Involoves shifting the HA to the left or right\n",
        " **bigger effects** - experimental effects that we can expect to be very large and very different than the H0\n",
        "* Decrease the width of the distributions(less variable data), you can also make the H0 more narrow by decreasing the DF"
      ],
      "metadata": {
        "id": "ZGM8oMT1-ZKA"
      }
    },
    {
      "cell_type": "markdown",
      "source": [
        "***None Parametric Statistics***\n",
        "* Statistics that are not based on assumptions about underlying distribution\n",
        "* Statistical inference of the H0 distribution from the data not from an equation"
      ],
      "metadata": {
        "id": "zMRFsqLW-YwT"
      }
    },
    {
      "cell_type": "markdown",
      "source": [
        "**Multiple Comparisons and Bonferoni Correction**\n",
        "Probabilities can be additive\n",
        "* p(H1|H0) = .05\n",
        "* p(H2|H0) = .05\n",
        "* p(H3|H0) = .05\n",
        "***based on the assumption that these probabilities are independent of each other***\n",
        "The sum off all 3 Probabilities will be 15% that at least one of these hypotheses will be incorrect or a Type I Error"
      ],
      "metadata": {
        "id": "xLjWmsIs-Yq5"
      }
    },
    {
      "cell_type": "markdown",
      "source": [
        "**The FamilyWise Error Rate**\n",
        "The FWE FWER is impossible to calculate exactly becauseof possible dependencies between hypotheses and its impossible because with probabilities being additive assumes that these test are not 100% independent from each other, and they depend on each other. You can not just add the Probabilities you need to include a scalaing factor.\n",
        "**Solution**\n",
        "Estimate the maximum FWE\n",
        "* FWE n is the number of test and alpha is the threshold that we are using\n",
        "\n",
        "```\n",
        "FWE <= 1-(1-a)^n<=na\n",
        "```\n",
        "\n"
      ],
      "metadata": {
        "id": "zrnOfBlaG4sY"
      }
    },
    {
      "cell_type": "markdown",
      "source": [
        "**Bonferoni Correction**\n",
        "Threshold = a/N\n",
        "* a = e.g, 0.05\n",
        "* N = number of tests"
      ],
      "metadata": {
        "id": "2Atvi24GG4pi"
      }
    },
    {
      "cell_type": "markdown",
      "source": [
        "**Cross Validation**\n",
        "Alternative mothod to evaluating statistical significance that is different from the tradtional p-value\n",
        "\"You take 90% of your data and generate a stat model and ignore the remaining 10% then apply the model to the 10%\" Train and Test. This would be one iteration and then you would repeat with a different 10%. ***K Fold Cross Validation***\n"
      ],
      "metadata": {
        "id": "rzKuOvOfG4kc"
      }
    },
    {
      "cell_type": "markdown",
      "source": [
        "You want you training and test sets to be randomly distributed throughout the dataset to avoid any systematic biases if there is some sort of corrleation structure"
      ],
      "metadata": {
        "id": "VR7XMKBTG4gY"
      }
    },
    {
      "cell_type": "markdown",
      "source": [
        "**Cross Val Use Cases**\n",
        "* Compute the Variance of the estimate, which is called *Confidence Interval*\n",
        "* Avoid bias in analysis results, applying the model to data it has never seen, overfitting the training data will decrease performance on the test data\n",
        "* Most common use, classification accuracy. Dominant in Deep Learning"
      ],
      "metadata": {
        "id": "8maKRx3rZUUd"
      }
    },
    {
      "cell_type": "markdown",
      "source": [
        "***Statistical Significance vs. Classification**\n",
        "*Data Types for classification*\n",
        "* Categorical data(nominal and ordinal)\n",
        "<br>\n",
        "The model prediction is compared to the reality, averaged and called classification accuracy.\n",
        "<br>\n"
      ],
      "metadata": {
        "id": "iqRnEfd9ZURE"
      }
    },
    {
      "cell_type": "markdown",
      "source": [
        "***Statistical Significance vs. Classification**\n",
        "<br>\n",
        "*Pvalue*\n",
        "\n",
        "* Test the probability of the sample statistic by chance\n",
        "* Can be computed separately for each paramter in the model\n",
        "* Sensitive to extreme N's\n",
        "* Can be obtained for nearly any kind of model with any kind of variables\n",
        "\n",
        "<br>\n",
        "\n",
        "*Classification Accuracy*\n",
        "\n",
        "<br>\n",
        "\n",
        "* Test how closely the model output matches an observed outcome\n",
        "* Individual pramaters can be difficult to determine\n",
        "* Used only for certain kinds of models and variables\n",
        "* Robust to sample size"
      ],
      "metadata": {
        "id": "Hg9BP06peLUt"
      }
    },
    {
      "cell_type": "code",
      "source": [],
      "metadata": {
        "id": "RBuX8aNKpytt"
      },
      "execution_count": null,
      "outputs": []
    }
  ]
}