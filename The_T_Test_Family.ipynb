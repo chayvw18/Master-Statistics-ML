{
  "nbformat": 4,
  "nbformat_minor": 0,
  "metadata": {
    "colab": {
      "provenance": [],
      "mount_file_id": "1FtdP08pWp51iCtVQ4odFm4yrenTQMh40",
      "authorship_tag": "ABX9TyNu2N7gGB0zPWhOfEcv+ltY",
      "include_colab_link": true
    },
    "kernelspec": {
      "name": "python3",
      "display_name": "Python 3"
    },
    "language_info": {
      "name": "python"
    }
  },
  "cells": [
    {
      "cell_type": "markdown",
      "metadata": {
        "id": "view-in-github",
        "colab_type": "text"
      },
      "source": [
        "<a href=\"https://colab.research.google.com/github/chayvw18/Master-Statistics-ML/blob/main/The_T_Test_Family.ipynb\" target=\"_parent\"><img src=\"https://colab.research.google.com/assets/colab-badge.svg\" alt=\"Open In Colab\"/></a>"
      ]
    },
    {
      "cell_type": "code",
      "execution_count": 1,
      "metadata": {
        "colab": {
          "base_uri": "https://localhost:8080/"
        },
        "id": "J-51sMPmhQqO",
        "outputId": "957e6e75-1ade-4a39-ab2f-807d140eab8e"
      },
      "outputs": [
        {
          "output_type": "stream",
          "name": "stdout",
          "text": [
            "/content/drive/MyDrive/MasterStats\n"
          ]
        }
      ],
      "source": [
        "%cd /content/drive/MyDrive/MasterStats"
      ]
    },
    {
      "cell_type": "markdown",
      "source": [
        "**Purpose and Interpretation of the T-Test**\n",
        "\n",
        "<br>\n",
        "The main idea of a T-test is to compare the values, typically two means between two different groups\n",
        "<br>\n",
        "\n",
        "*HA = larger mean or a mean thats different between groups*\n",
        "<br>\n",
        "\n",
        "*H0 = the means of the two groups are equal and that we could shuffle the group assignement and it wouldnt change significantly*\n",
        "\n",
        "<br>\n",
        "We can have a HA were you test your mean to against a zero value, and we are looking to see if the mean value is significantly different than zero."
      ],
      "metadata": {
        "id": "io8YzZxojKGQ"
      }
    },
    {
      "cell_type": "markdown",
      "source": [],
      "metadata": {
        "id": "RN5uyc1fjJ3U"
      }
    },
    {
      "cell_type": "markdown",
      "source": [
        "**T-Test Formula**\n",
        "\n",
        "<br>\n",
        "tk = x-bar - y-bar/*sample* std/sqrt(n)\n",
        "<br>\n",
        "n is the number of samples\n",
        "\n",
        "<br>\n",
        "The general way to interalize what the T-Test is doing is to conceptualize\n",
        "\n",
        "<br>\n",
        "\n",
        "it as *Difference of Means/ Standard Deviations*\n",
        "\n"
      ],
      "metadata": {
        "id": "6GIX5jSKlxhX"
      }
    },
    {
      "cell_type": "markdown",
      "source": [
        "**P-Value from T-Values**\n",
        "<br>\n",
        "\n",
        "Due to sample variability there's going to be a range of t-values that you could expect even if the H0 is true.\n",
        "<br>\n",
        "If the H0 is true then the differences of means would be zero, so the expectations value of the t-statistics under the H0 is zero\n",
        "<br>\n",
        "sample variability and nosie will push the the t-value around.\n",
        "<br>\n",
        "Determining statistical significance and deriving a p-value from a t-value is to compare the t-value that you actaully observed in your real data against this analytic distribution\n",
        "<br>\n",
        " *How to maximize your t-value*\n",
        " <br>\n",
        " *we want to maximize our t-value to get it further away from zero, the larger the t-value magnitude the smaller the p values are going to be, and thats what we want a statistically significant t-statistic*\n",
        "* Increase the group differences- get the mean of x to be very different from the mean of y\n",
        "* Reduces variances\n",
        "* Increase sample size- when we increase n we get a larger t via a sqrt relationship"
      ],
      "metadata": {
        "id": "yZdrgfJpjJxK"
      }
    },
    {
      "cell_type": "markdown",
      "source": [
        "***because theres divison in the denominator, thats the same thing as putting it in the numerator***"
      ],
      "metadata": {
        "id": "5PEg-7p3Du7q"
      }
    },
    {
      "cell_type": "markdown",
      "source": [
        "**One Sample T-Test**\n",
        "<br>\n",
        "Test whether a set of numbers could have been drawn from a distribution with a specified mean\n",
        "<br>\n",
        "tn-1 = x-bar - mu/s/sqrt(n)\n",
        "<br>\n",
        "x-bar is the empirical mean/observed mean\n",
        "<br>\n",
        "H0 pop parameter/mu\n",
        "<br>\n",
        "S is the sample standard deviations\n"
      ],
      "metadata": {
        "id": "W4Tx7o2ujJkp"
      }
    },
    {
      "cell_type": "markdown",
      "source": [
        "**One Sample T-Test Assumptions**\n",
        "* Data are numeric(not categorical), ideally interval or ratio\n",
        "* Data are independent of each other\n",
        "* Data are randomly drawn from the population to which generalization should be made\n",
        "* Mean and Standard Deviation are valid descriptions of centeral tendency and dispersion(i.e data are approximately noramlly distributed)"
      ],
      "metadata": {
        "id": "fap2SA5cjJfd"
      }
    },
    {
      "cell_type": "code",
      "source": [
        "import numpy as np\n",
        "import matplotlib.pyplot as plt\n",
        "import scipy.stats as stats"
      ],
      "metadata": {
        "id": "aUidoGKwhg25"
      },
      "execution_count": 3,
      "outputs": []
    },
    {
      "cell_type": "code",
      "source": [
        "##generate the data\n",
        "\n",
        "#parameters\n",
        "N = 20 #sample size\n",
        "popMu = .5\n",
        "data = np.random.randn(N) + popMu\n",
        "\n",
        "#Lets plot the data\n",
        "plt.plot(data, 'ko', markerfacecolor='r', markersize=10)\n",
        "plt.xlabel('Data Index')\n",
        "plt.ylabel('Data Value')\n",
        "plt.show()\n"
      ],
      "metadata": {
        "colab": {
          "base_uri": "https://localhost:8080/",
          "height": 449
        },
        "id": "KGyYVJlA8CSA",
        "outputId": "7a3701ef-e315-4db4-c826-bfd1222c9c39"
      },
      "execution_count": null,
      "outputs": [
        {
          "output_type": "display_data",
          "data": {
            "text/plain": [
              "<Figure size 640x480 with 1 Axes>"
            ],
            "image/png": "[encoded data removed]"
          },
          "metadata": {}
        }
      ]
    },
    {
      "cell_type": "code",
      "source": [
        "##manual t-test\n",
        "\n",
        "#Create the null hypothesis\n",
        "H0val = 0\n",
        "\n",
        "#compute the t-value\n",
        "t_num = np.mean(data) - H0val\n",
        "t_den = np.std(data, ddof=1)/np.sqrt(N)\n",
        "t_val = t_num/t_den\n",
        "\n",
        "#Degrees of Freedom for a one sample t-test\n",
        "#\n",
        "df = N-1\n",
        "\n",
        "#P-Value\n",
        "pval = 1 - stats.t.cdf(abs(t_val), df) * 2\n",
        "\n",
        "#Show the H0 paramter distribution and observed t dist goes up, and it plateau\n",
        "#then we evaluate the t-value on the right against the cdf\n",
        "\n",
        "x = np.linspace(-4,4, 1001)\n",
        "#the associated cdf is the sum of the prob dist\n",
        "tdist = stats.t.pdf(x, df) * np.mean(np.diff(x))\n",
        "plt.plot(x, tdist, linewidth=2)\n",
        "plt.plot([t_val, t_val], [0, max(tdist)], 'r--')\n",
        "plt.xlabel('T-Value')\n",
        "plt.ylabel('pdf(t)')\n",
        "plt.legend(('H0 Distribution', 'Observed T Value'))\n",
        "plt.title('t(%g) =%g, p=%g' %(df,t_val, pval))\n",
        "plt.show()"
      ],
      "metadata": {
        "colab": {
          "base_uri": "https://localhost:8080/",
          "height": 472
        },
        "id": "9uRMt6ZV9ATq",
        "outputId": "568dc26f-2db0-4cac-fbdc-4756554f2ffc"
      },
      "execution_count": null,
      "outputs": [
        {
          "output_type": "display_data",
          "data": {
            "text/plain": [
              "<Figure size 640x480 with 1 Axes>"
            ],
            "image/png": "[encoded data removed]"
          },
          "metadata": {}
        }
      ]
    },
    {
      "cell_type": "code",
      "source": [
        "#now using the Python function\n",
        "t,p = stats.ttest_1samp(data, H0val)\n",
        "print(t,p)"
      ],
      "metadata": {
        "colab": {
          "base_uri": "https://localhost:8080/"
        },
        "id": "r_RTFllbAOU5",
        "outputId": "14b6039e-1895-4b61-9ee3-d0b6480a82a6"
      },
      "execution_count": null,
      "outputs": [
        {
          "output_type": "stream",
          "name": "stdout",
          "text": [
            "2.8783711944982895 0.009625036018221261\n"
          ]
        }
      ]
    },
    {
      "cell_type": "markdown",
      "source": [
        "**Two Sample T-Test**\n",
        "<br>\n",
        "*Two whether two sets of numbers could have been drawn from the same distribution*\n",
        "<br>\n",
        "<br>\n",
        "*Test whether self reported stress levels changed after 6 weeks*\n",
        "<br>\n",
        "**Formal statement: Estimate the probability that self reported stress levels before and after 6 weeks of social distancing were drawn from the same distribution**\n"
      ],
      "metadata": {
        "id": "wDBAFbXsFmQH"
      }
    },
    {
      "cell_type": "markdown",
      "source": [
        "**Two Sample T-Test**\n",
        "<br>\n",
        "\n",
        "There are several two sample test formulas\n",
        "<br>\n",
        "\n",
        "The numerator is always the same\n",
        "<br>\n",
        "\n",
        "The denominator depends on whether the groups are paired or unpaired, have equal or unequal variance, amd have matched or different sample sizes"
      ],
      "metadata": {
        "id": "CES3pbmqFmHw"
      }
    },
    {
      "cell_type": "markdown",
      "source": [
        "**Explanation of T-Test**\n",
        "<br>\n",
        "*Paried or Unparied: Whether the two groups of data are drawn from the same or different individuals*\n",
        "<br>\n",
        "\n",
        "*Paired: The same individuals self report their stress levels before vs after social distancing*\n",
        "<br>\n",
        "*Unpaired: Change in social distancing related stress in Two Random Countries*"
      ],
      "metadata": {
        "id": "ovRiB9TuFnM7"
      }
    },
    {
      "cell_type": "markdown",
      "source": [
        "*Equal or Unequal Variance:Whether the two groups have (roughly) equal variance*\n",
        "<br>\n",
        "*Equal Variance:* Groups \"A\" and \"B\" are caucasian 20-year old students from the same university group\n",
        "<br>\n",
        "\"A\" studies engineering and group \"B\" studies computer science.\n",
        "<br>\n",
        "*Unequal Variance:  Groups \"A\" is caucasian 20-year old students from the same engineering university. Group B is a random sample of 20 year olds from across the country*"
      ],
      "metadata": {
        "id": "FDjJWeHJiOZ3"
      }
    },
    {
      "cell_type": "markdown",
      "source": [
        "*Equal or Unequal sample sizes: Whether the groups have the same number of values(applies only to unpaired groups)*"
      ],
      "metadata": {
        "id": "I86U3KSBiPnn"
      }
    },
    {
      "cell_type": "code",
      "source": [
        "## Generate the data\n",
        "\n",
        "#parameters\n",
        "n1 = 30\n",
        "n2 = 40\n",
        "mu1 = 1 #population mean in dataset 1\n",
        "mu2 = 1.2 #population mean in dataset 2\n",
        "\n",
        "#generate random data and simulate scenarios where there\n",
        "#is limited sample variability\n",
        "data1 = mu1 + np.random.randn(n1)/10\n",
        "data2 = mu2 + np.random.randn(n2)/10\n",
        "\n",
        "#Plot their histograms\n",
        "plt.hist(data1, bins='fd', color=[1,0,0,.5], label='Data1')\n",
        "plt.hist(data2, bins='fd', color=[0,0,1,.5], label='Data2')\n",
        "plt.xlabel('Data Value')\n",
        "plt.ylabel('Count')\n",
        "plt.show()"
      ],
      "metadata": {
        "colab": {
          "base_uri": "https://localhost:8080/",
          "height": 449
        },
        "id": "OHhOX6MPlFA7",
        "outputId": "9bcc795c-4ba3-4726-99c2-2fca735d6980"
      },
      "execution_count": null,
      "outputs": [
        {
          "output_type": "display_data",
          "data": {
            "text/plain": [
              "<Figure size 640x480 with 1 Axes>"
            ],
            "image/png": "[encoded data removed]"
          },
          "metadata": {}
        }
      ]
    },
    {
      "cell_type": "code",
      "source": [
        "##now time for the ttest\n",
        "t_value, p_value = stats.ttest_ind(data1,data2,equal_var=True)\n",
        "#ttest_ind is for independent samples or unpaired samples t-test\n",
        "#the formula for the t-test change slightly depending on equal or unequal variance\n",
        "\n",
        "#Degree of Freedom\n",
        "df = n1 + n2 - 2\n",
        "\n",
        "print('t(%g)=%g, p=%g'%(df,t_value,p_value))"
      ],
      "metadata": {
        "colab": {
          "base_uri": "https://localhost:8080/"
        },
        "id": "ZTcyvQ8vrRTo",
        "outputId": "78d8e923-e347-422e-8806-f6101c481fa4"
      },
      "execution_count": null,
      "outputs": [
        {
          "output_type": "stream",
          "name": "stdout",
          "text": [
            "t(68)=-9.49135, p=4.41161e-14\n"
          ]
        }
      ]
    },
    {
      "cell_type": "markdown",
      "source": [
        "*Highly Significant T-Test*"
      ],
      "metadata": {
        "id": "o8QRArCytU25"
      }
    },
    {
      "cell_type": "code",
      "source": [
        "##a 2D space of t-values\n",
        "\n",
        "#range for t-values parameters\n",
        "meandiffs = np.linspace(-3,3,80) #numerator\n",
        "pooledvar = np.linspace(.5,4,100) #denominator\n",
        "\n",
        "#group sample size\n",
        "n1 = 40\n",
        "n2 = 30\n",
        "\n",
        "#initialize output matrix\n",
        "allTvals = np.zeros((len(meandiffs), len(pooledvar)))\n",
        "\n",
        "#loop over the parameters\n",
        "for meani in range(len(meandiffs)):\n",
        "  for vari in range(len(pooledvar)):\n",
        "    #t-value denominator\n",
        "    df = n1 + n2 -2\n",
        "    s = np.sqrt(((n1-1)*pooledvar[vari] + (n2-1)*pooledvar[vari])/df)\n",
        "    t_den = s * np.sqrt(1/n1 + 1/n2)\n",
        "\n",
        "    #t-values in the matrix\n",
        "    allTvals[meani, vari] = meandiffs[meani]/ t_den\n",
        "\n",
        "plt.imshow(allTvals, vmin=-4, vmax=4, extent=[pooledvar[0], pooledvar[-1], meandiffs[0],meandiffs[-1]], aspect='auto')\n",
        "plt.xlabel('Variance')\n",
        "plt.ylabel('Mean differences')\n",
        "plt.colorbar()\n",
        "plt.title('t-values as a function of difference and variance')\n",
        "plt.show()"
      ],
      "metadata": {
        "id": "xGgWTXost1h2",
        "colab": {
          "base_uri": "https://localhost:8080/",
          "height": 472
        },
        "outputId": "7221fcc4-c76d-484f-e46b-c86ff5f32eb7"
      },
      "execution_count": null,
      "outputs": [
        {
          "output_type": "display_data",
          "data": {
            "text/plain": [
              "<Figure size 640x480 with 2 Axes>"
            ],
            "image/png": "[encoded data removed]"
          },
          "metadata": {}
        }
      ]
    },
    {
      "cell_type": "markdown",
      "source": [
        "A matrix of t-values that I am visualizing, and each color in the corresponds to t value.\n",
        "<br>\n",
        "This y-axis is the mean differences, thats the numerator\n",
        "<br>\n",
        "and the x-axis is the pooled standard deviation or the variability\n",
        "<br>\n",
        "If we consider the the relationship between the pooled variance and the mean difference of the numerator.\n",
        "<br>\n",
        "We notice even when the mean difference is large, if we have variability in the groups\n",
        "<br>\n",
        "we are still going to get a small t-statistic"
      ],
      "metadata": {
        "id": "cxaTx-BXF4Vp"
      }
    },
    {
      "cell_type": "markdown",
      "source": [
        "**Wilcoxon Signed Rank(Nonparametric T-Test)**\n",
        "<br>\n",
        "If the data violates the assumption of mean and standard deviation are valid descriptors of central tendency\n",
        "<br>\n",
        "that they data are approximately normally distributed\n",
        "<br>\n",
        "*Wilcoxon Signed Rank* alternative to the one or two sample t-test\n",
        "<br>\n",
        "Tests for differences in medians instead of differences in means(medians are insensitive to outliers)"
      ],
      "metadata": {
        "id": "jO1ws98mJrfn"
      }
    },
    {
      "cell_type": "markdown",
      "source": [
        "**Different nonparametric median t-test**\n",
        "<br>\n",
        "* Wilcoxon signed-rank test- one sample\n",
        "* Signed-rank test- two dependent(paired)samples\n",
        "<br>\n",
        "\n",
        "* Mann-Whitney U test- Two independent samples\n",
        "* Mann-Whitney-Wilcoxon U test- Two independent samples\n",
        "* Wilcoxon rank-sum test- Two independent samples\n"
      ],
      "metadata": {
        "id": "HBxbKoBSU-nK"
      }
    },
    {
      "cell_type": "markdown",
      "source": [
        "**Algorithm to compute the Wilcoxon Test**\n",
        "<br>\n",
        "\n",
        "* Step 1 - Remove equal pairs or data points that equal the H0 value\n",
        "<br>\n",
        "\n",
        " *Equal pairs do not contribute to the test either way*\n",
        "\n",
        "<br>\n",
        "\n",
        "* Step 2 - Rank transform differences\n",
        "<br>\n",
        "\n",
        " *r = rank (|x-y|), x-y are the paired differences. For a one sample test y is the H0 value*\n",
        "<br>\n",
        "\n",
        "* Step 3 - Sum ranks where x>y\n",
        "<br>\n",
        "\n",
        " *W = sum(rX(x>y))*\n",
        "\n",
        "<br>\n",
        "\n",
        "* Step 4 - Convert to Z\n",
        "<br>\n",
        "\n",
        " *Z is normally distributed under H0 and can be converted to a p-value *\n",
        "<br>\n",
        "\n",
        "treating z/p value like a normal standard deviation number\n"
      ],
      "metadata": {
        "id": "GqCzGruqU_ZI"
      }
    },
    {
      "cell_type": "code",
      "source": [
        "#generate the data\n",
        "# N = 30\n",
        "\n",
        "# data3 = np.random.poisson(1.5,N)\n",
        "# data4 = np.random.poisson(1,N)\n",
        "\n",
        "# colors = 'kr'\n",
        "# for i in range(N):\n",
        "#   plt.plot([data3[i], data4[i]], [i, 1],colors[int(data3[i]<data4[i])])\n",
        "\n",
        "# plt.plot(data3, np.arange(N), 'ks', markerfacecolor='k', label='data3')\n",
        "# plt.plot(data4, np.arange(N), 'ro', markerfacecolor='k', label='data4')\n",
        "\n",
        "# plt.ylabel('Data Index')\n",
        "# plt.xlabel('Data Value')\n",
        "# plt.legend()\n",
        "# plt.show()\n"
      ],
      "metadata": {
        "id": "XZwlK59dU5mw"
      },
      "execution_count": 1,
      "outputs": []
    },
    {
      "cell_type": "code",
      "source": [
        "N = 30\n",
        "\n",
        "data1 = np.random.poisson(1.5,N)\n",
        "data2 = np.random.poisson(1,N)\n",
        "\n",
        "colors = 'kr'\n",
        "for i in range(N):\n",
        "    plt.plot([data1[i], data2[i]],[i, i],colors[int(data1[i]<data2[i])])\n",
        "\n",
        "plt.plot(data1,np.arange(N),'ks',markerfacecolor='k',label='data1')\n",
        "plt.plot(data2,np.arange(N),'ro',markerfacecolor='r',label='data2')\n",
        "\n",
        "plt.ylabel('Data index')\n",
        "plt.xlabel('Data value')\n",
        "plt.legend()\n",
        "\n",
        "plt.show()"
      ],
      "metadata": {
        "colab": {
          "base_uri": "https://localhost:8080/",
          "height": 450
        },
        "id": "9Plo2zYSetQR",
        "outputId": "952e4050-7eff-49a3-8f70-2e3113310239"
      },
      "execution_count": 4,
      "outputs": [
        {
          "output_type": "display_data",
          "data": {
            "text/plain": [
              "<Figure size 640x480 with 1 Axes>"
            ],
            "image/png": "[encoded data removed]"
          },
          "metadata": {}
        }
      ]
    },
    {
      "cell_type": "code",
      "source": [
        "#Signed Rank Test\n",
        "t,p = stats.wilcoxon(data1, data2)\n",
        "print('Wilcoxon z=%g, p=%g'%(t,p))"
      ],
      "metadata": {
        "colab": {
          "base_uri": "https://localhost:8080/"
        },
        "id": "G_2dwLVbet41",
        "outputId": "9566c8b4-1bd4-44d8-da3d-e3596c6d5068"
      },
      "execution_count": null,
      "outputs": [
        {
          "output_type": "stream",
          "name": "stdout",
          "text": [
            "Wilcoxon z=59.5, p=0.0127565\n"
          ]
        }
      ]
    },
    {
      "cell_type": "markdown",
      "source": [
        "We can reject null hypothesis here, and state that data1 and data2 do not come from the same distribution.\n",
        "<br>\n",
        "It was unlikely that we would have gotten the Z Value of this size if these two distributions \"samples\" were drawn from the same distribution with the same lambda parameter/median"
      ],
      "metadata": {
        "id": "gWlblKMMfnDG"
      }
    },
    {
      "cell_type": "code",
      "source": [],
      "metadata": {
        "id": "QnG1rqUegQSJ"
      },
      "execution_count": null,
      "outputs": []
    },
    {
      "cell_type": "markdown",
      "source": [
        "**Mann-Whitney U Test**\n",
        "<br>\n",
        "Nonparametric alternative to the independent two sample test\n",
        "<br>\n",
        "Test for differences in medians instead of differences in means\n",
        "<br>\n",
        "***The two groups do not need to have the same sample size***\n"
      ],
      "metadata": {
        "id": "m8GVHwdJh2wJ"
      }
    },
    {
      "cell_type": "markdown",
      "source": [
        "**Algorithm to compute the Mann-Whitney U**\n",
        "<br>\n",
        "* Step 1: Note the N's\n",
        "* Step 2: Pool the data and rank\n",
        "* Step 3: Compute U\n",
        "* Step 4: Convert to z"
      ],
      "metadata": {
        "id": "adWY6Tzth2ju"
      }
    },
    {
      "cell_type": "code",
      "source": [
        "#Different sample sizes\n",
        "N1 = 30\n",
        "N2 = 40\n",
        "\n",
        "data1 = np.random.poisson(2,N1)\n",
        "data2 = np.random.poisson(1,N2)\n",
        "\n",
        "#U Test\n",
        "U,p = stats.mannwhitneyu(data1, data2)\n",
        "print(U,p)"
      ],
      "metadata": {
        "colab": {
          "base_uri": "https://localhost:8080/"
        },
        "id": "DW7gZJQ8lRRJ",
        "outputId": "4dc99d80-fdbb-4447-f32f-6024bc8b2167"
      },
      "execution_count": null,
      "outputs": [
        {
          "output_type": "stream",
          "name": "stdout",
          "text": [
            "868.5 0.0008628232959949061\n"
          ]
        }
      ]
    },
    {
      "cell_type": "markdown",
      "source": [
        "**Premutation Testing for t-test**\n",
        "<br>\n",
        "\n",
        "With parametric statistics the way to determine statistical significance is by evaluating the position of your observed t value relative to an analytic distribution of t-values that are expected based on the H0 of no effect.\n",
        "<br>\n",
        "\n",
        "With premutation testing you do not want to make any assumptions about where the H0 comes from or what it might look like.\n",
        "<br>\n",
        "\n",
        "Instead you compute a H0 distribution of our own based on the data that we actually have. You can then observe our own statistic value relative to the empircal distribution.\n",
        "<br>\n",
        "\n",
        "We compute the Z Score as our observed value minus the mean *exception value of the emprical H0 distribution* divided by the STD of the H0\n",
        "\n",
        "<br>\n",
        "\n",
        "*the oberseved value is not inside the distribution*\n",
        "\n",
        "<br>\n",
        "The method is appropriate for approximately Gaussian H0 distribution because we need the mean and the standard deviation to be valid and useful descriptors.\n",
        "<br>\n"
      ],
      "metadata": {
        "id": "AiTT2khnnq3J"
      }
    },
    {
      "cell_type": "markdown",
      "source": [
        "The second method is to compute the p-value based on counts. Probability based on counts, when you sum up all of the H0 values that are greater than the observed test statistic.\n",
        "<br>\n",
        "\n",
        "*how many times did the H0 test produce a t test that was larger than the observed value*\n",
        "<br>\n",
        "\n",
        "Pc = sum(H0>obs)/NH0"
      ],
      "metadata": {
        "id": "U7byj8zjyQbt"
      }
    },
    {
      "cell_type": "markdown",
      "source": [],
      "metadata": {
        "id": "13fSf-dcyQPO"
      }
    },
    {
      "cell_type": "code",
      "source": [],
      "metadata": {
        "id": "TVXg6pmHyOYz"
      },
      "execution_count": null,
      "outputs": []
    }
  ]
}