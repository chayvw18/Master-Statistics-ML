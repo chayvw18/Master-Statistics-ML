{
  "nbformat": 4,
  "nbformat_minor": 0,
  "metadata": {
    "colab": {
      "provenance": [],
      "mount_file_id": "1E8nsXGPV9Zf5rT0enUNY2_t49bj1oDo7",
      "authorship_tag": "ABX9TyP3/chX6jVARrdk4y3H3er7",
      "include_colab_link": true
    },
    "kernelspec": {
      "name": "python3",
      "display_name": "Python 3"
    },
    "language_info": {
      "name": "python"
    }
  },
  "cells": [
    {
      "cell_type": "markdown",
      "metadata": {
        "id": "view-in-github",
        "colab_type": "text"
      },
      "source": [
        "<a href=\"https://colab.research.google.com/github/chayvw18/Master-Statistics-ML/blob/main/Logistic_Reg.ipynb\" target=\"_parent\"><img src=\"https://colab.research.google.com/assets/colab-badge.svg\" alt=\"Open In Colab\"/></a>"
      ]
    },
    {
      "cell_type": "code",
      "execution_count": 1,
      "metadata": {
        "colab": {
          "base_uri": "https://localhost:8080/"
        },
        "id": "IWvL0fcy2as6",
        "outputId": "3428472f-b8bc-4ea2-f40b-6338229f023d"
      },
      "outputs": [
        {
          "output_type": "stream",
          "name": "stdout",
          "text": [
            "/content/drive/MyDrive/MasterStats\n"
          ]
        }
      ],
      "source": [
        "%cd /content/drive/MyDrive/MasterStats"
      ]
    },
    {
      "cell_type": "markdown",
      "source": [
        "**Logistic Regression**\n",
        "<br>\n",
        "A logistic regression (aka binary logistic regression) has a binary dv\n",
        "<br>\n",
        "*Examples:* true/flase, male/female, win/lose\n",
        "<br>\n",
        "Can be extended to any number of categorical outcomes (aka multinomial logistic regression) what deep neural networks are implementing for image recognition\n",
        "<br>\n",
        "\n",
        "**What is the outcome of logidtic regression**\n",
        "<br>\n",
        "Alogistic regression does not classify; it returns probabilities of category membership\n",
        "<br>\n",
        "Classification can be implemennted using threshold e.g., r > .5\n",
        "```\n",
        "ln p / 1 - p = Beta0 + Beta1 x1 + ... +  Betak xk\n",
        "```\n",
        "the right hand side is stnadard regression, the left hand side is viewed as the natural log of the ration of the probability of an event happening to the probability of the event not happening, which is the *odds ratio*\n",
        "<br>\n",
        "**Why take the log of probabilites**\n",
        "<br>\n",
        "The log of small values has a larger dynamic range and is easier to work with in optimization problems, by increasing the dynamic range that helps the parameters make the model best fit the data.\n",
        "<br>\n",
        "Also the odds ratio before taking the natural log will look like a flat line\n",
        "<br>\n",
        "**How to find the best regression coefficients**\n",
        "<br>\n",
        "The nonlinearities in the coefficients prevent the left inverse from being a viable solution\n",
        "<br>\n",
        "Iterative methods such as gradient descent are applied to find the set of parameters that make the probabilities best match the dependent variable."
      ],
      "metadata": {
        "id": "53UsNgmT2whZ"
      }
    },
    {
      "cell_type": "code",
      "source": [
        "import numpy as np\n",
        "import matplotlib.pyplot as plt\n",
        "from sklearn.linear_model import LogisticRegression"
      ],
      "metadata": {
        "id": "zUnevZDa_gKL"
      },
      "execution_count": 2,
      "outputs": []
    },
    {
      "cell_type": "code",
      "source": [
        "## generate the data\n",
        "\n",
        "exam_outcome = [0, 0, 0, 0, 0, 0, 0, 0, 0, 0, 1, 1, 1, 1, 1, 1, 1, 1, 1, 1];\n",
        "study_hours  = [7.9, 7.9, 2.8, 5.4, 6.1, 4.5, 6.9, 2.3, 1.9, 1, 3.1, 5.7, 5.6, 4.7, 4.2, 2, 7.7, 6.5, 5.1, 3.7]\n",
        "sleep_hours  = [4.4, 5.2, 7.5, 4.6, 5.5, 6.1, 6.6, 3.1, 5.9, 3.2, 7.5, 7.8, 6.1, 5.4, 10.5, 8.2, 7.2, 7.2, 5.9, 7.9]\n",
        "\n",
        "n = len(exam_outcome)\n",
        "\n",
        "# and plot\n",
        "for i in range(n):\n",
        "    plt.plot([exam_outcome[i]-.05, exam_outcome[i]+.05],[study_hours[i],sleep_hours[i]],color=[.7,.7,.7])\n",
        "\n",
        "plt.plot(exam_outcome-.05*np.ones(n),study_hours,'ks',markerfacecolor=[1,.8,1],label='Study')\n",
        "plt.plot(exam_outcome+.05*np.ones(n),sleep_hours,'ks',markerfacecolor=[.39,1,1],label='Sleep')\n",
        "\n",
        "plt.xticks([0,1],labels=('Fail','Pass'))\n",
        "plt.xlim([-.5,1.5])\n",
        "plt.ylabel('Hours sleep or study')\n",
        "plt.legend()\n",
        "plt.show()"
      ],
      "metadata": {
        "colab": {
          "base_uri": "https://localhost:8080/",
          "height": 430
        },
        "id": "hxVJ7tiaAkkA",
        "outputId": "27fd94b8-eb29-459b-afbf-59844e7e2924"
      },
      "execution_count": 3,
      "outputs": [
        {
          "output_type": "display_data",
          "data": {
            "text/plain": [
              "<Figure size 640x480 with 1 Axes>"
            ],
            "image/png": "[encoded data removed]"
          },
          "metadata": {}
        }
      ]
    },
    {
      "cell_type": "code",
      "source": [
        "##logistic regression\n",
        "\n",
        "#create model\n",
        "logregmodel = LogisticRegression(solver='newton-cg')\n",
        "\n",
        "#create the design matrix\n",
        "desmat = np.vstack((study_hours, sleep_hours)).T\n",
        "\n",
        "logregmodel.fit(desmat, np.array(exam_outcome))\n",
        "\n",
        "print(logregmodel.intercept_)\n",
        "print(logregmodel.coef_)"
      ],
      "metadata": {
        "colab": {
          "base_uri": "https://localhost:8080/"
        },
        "id": "nOcXin7vAxUv",
        "outputId": "dcf60f32-b61f-45f6-eaec-40eb0fb0ce90"
      },
      "execution_count": 6,
      "outputs": [
        {
          "output_type": "stream",
          "name": "stdout",
          "text": [
            "[-7.15491116]\n",
            "[[0.10742138 1.05067754]]\n"
          ]
        }
      ]
    },
    {
      "cell_type": "code",
      "source": [
        "predval = logregmodel.predict(desmat) #class labels\n",
        "predvalP = logregmodel.predict_proba(desmat) #probability values\n",
        "\n",
        "print(predval)\n",
        "print(np.array(exam_outcome))\n",
        "\n",
        "logregmodel.score(desmat, np.array(exam_outcome))"
      ],
      "metadata": {
        "colab": {
          "base_uri": "https://localhost:8080/"
        },
        "id": "_PvoIv2GBglF",
        "outputId": "dac718d7-db16-4003-b5b7-615551314b18"
      },
      "execution_count": 7,
      "outputs": [
        {
          "output_type": "stream",
          "name": "stdout",
          "text": [
            "[0 0 1 0 0 0 1 0 0 0 1 1 0 0 1 1 1 1 0 1]\n",
            "[0 0 0 0 0 0 0 0 0 0 1 1 1 1 1 1 1 1 1 1]\n"
          ]
        },
        {
          "output_type": "execute_result",
          "data": {
            "text/plain": [
              "0.75"
            ]
          },
          "metadata": {},
          "execution_count": 7
        }
      ]
    },
    {
      "cell_type": "markdown",
      "source": [
        "**Section Break**\n",
        "<br>\n",
        "\n",
        "**Under- and over-fitting**\n",
        "<br>\n",
        "*Over-fitting*\n",
        "\n",
        "* Overly sensitive to noise\n",
        "* Increased sensitivity to subtle effects\n",
        "* Reduced gneralizsbility\n",
        "* Over-parameterized models become difficult to estimate\n",
        "\n",
        "*Under-fitting*\n",
        "\n",
        "* Less sensitive to noise\n",
        "* Less likely to detect true effects\n",
        "* Reduces generalizability\n",
        "* Parameters are better estimated\n",
        "* Good results with less data\n",
        "\n",
        "<br>\n",
        "\n",
        "**How to know the correct number of parameters?**\n",
        "<br>\n",
        "\n",
        "How to make sure the model is sufficiently complex that youre not under fitting the data but also sufficiently simple that you are not over fitting the data ?\n",
        "<br>\n",
        "\n",
        "With 1-2 dimensions: Visualize the data and make informed decision\n",
        "<br>\n",
        "\n",
        "With 3 + dimensions: Formal model comparisons\n",
        "<br>\n",
        "\n",
        "**Hidden overfittng: 'researcher degrees of freedom**\n",
        "<br>\n",
        "The researcher has many choices for how to clean organize, and select the data; and which models to run."
      ],
      "metadata": {
        "id": "vAToaCXsDY--"
      }
    },
    {
      "cell_type": "markdown",
      "source": [
        "**F Test for model comparison**\n",
        "<br>\n",
        "\n",
        "F is statistically significant : More parameters improve the model *Prefer the more comp;icated model*\n",
        "<br>\n",
        "\n",
        "F is non significant: The model with fewer parameters fits as well as the model with more parameters. Prefer the simple model."
      ],
      "metadata": {
        "id": "5gttBZc9Kd8q"
      }
    },
    {
      "cell_type": "code",
      "source": [],
      "metadata": {
        "id": "mOd5QD6jLC5t"
      },
      "execution_count": null,
      "outputs": []
    }
  ]
}