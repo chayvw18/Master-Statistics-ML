{
  "nbformat": 4,
  "nbformat_minor": 0,
  "metadata": {
    "colab": {
      "provenance": [],
      "mount_file_id": "1njcClmdy1JDlQSkID14bGR-7HCvrpdUk",
      "authorship_tag": "ABX9TyOFdbY3hnOEGiqWyTU1oLbr",
      "include_colab_link": true
    },
    "kernelspec": {
      "name": "python3",
      "display_name": "Python 3"
    },
    "language_info": {
      "name": "python"
    }
  },
  "cells": [
    {
      "cell_type": "markdown",
      "metadata": {
        "id": "view-in-github",
        "colab_type": "text"
      },
      "source": [
        "<a href=\"https://colab.research.google.com/github/chayvw18/Master-Statistics-ML/blob/main/Correlation.ipynb\" target=\"_parent\"><img src=\"https://colab.research.google.com/assets/colab-badge.svg\" alt=\"Open In Colab\"/></a>"
      ]
    },
    {
      "cell_type": "code",
      "source": [
        "%cd /content/drive/MyDrive"
      ],
      "metadata": {
        "colab": {
          "base_uri": "https://localhost:8080/"
        },
        "id": "WMq9Rc9t5o9C",
        "outputId": "0aca129e-333f-4c53-9a92-3327acfbfa9b"
      },
      "execution_count": 1,
      "outputs": [
        {
          "output_type": "stream",
          "name": "stdout",
          "text": [
            "/content/drive/MyDrive\n"
          ]
        }
      ]
    },
    {
      "cell_type": "markdown",
      "source": [
        "With the t-test we are considering averages/population parameter of one group against another group. We ignore the individual variability within groups.\n",
        "<br>\n",
        "A feature of test that measure group differences they ignore individual differences.\n",
        "<br>\n",
        "There is a need for a set of methods that can highlight and capture that individual variability and reveal whether there are some important relationships betweem individual variability and some other variable.\n",
        "<br>\n",
        "That is the idea of ***corrleation***\n",
        "<br>\n",
        "To begin to compute corrleation we need data that are somehow paried. Doesn’t need to be exactly the same but related in some meaningful way.\n",
        "<br>\n",
        "You could have two test groups with different labels and one group could be students test scores in History and the other group could be student test scores in Computer Science.\n",
        "<br>\n"
      ],
      "metadata": {
        "id": "OlJoRbKMkhKQ"
      }
    },
    {
      "cell_type": "markdown",
      "source": [
        "**Correlation: definition and description**\n",
        "<br>\n",
        "A correlation analysis computes a corrleation coefficient(termed\"r\")\n",
        "<br>\n",
        "The correlation coefficient varies between -1 and +1. -1 means a perfect inverse relationship, 0 means no relationship, and +1 means a perfect positive relationship.\n",
        "<br>\n",
        "The correlation coefficient itself is a continous measure of correlation strength. A corresponding p-value must be computed to interpret its statistical significance"
      ],
      "metadata": {
        "id": "pgl3zbFJkhFY"
      }
    },
    {
      "cell_type": "markdown",
      "source": [
        "The P-Value for the correlation coefficient is related to both strength of the relationship and tightness of the relationships best fit line and also related to the sample points\n",
        "<br>\n",
        "*You can have a modest or even weak correlation but if you have a large sample size the p-value is going to be small*"
      ],
      "metadata": {
        "id": "CzHY3_E8kg_k"
      }
    },
    {
      "cell_type": "markdown",
      "source": [
        "**Correlation vs Causation**\n",
        "<br>\n",
        "correlation merely shows a relationship, it does not reveal or imply causality.\n",
        "<br>\n",
        "Causality can be demonstrated by experimental manipulations"
      ],
      "metadata": {
        "id": "14LdAbNTkgue"
      }
    },
    {
      "cell_type": "markdown",
      "source": [
        "**Covariance vs. Correlation**\n",
        "<br>\n",
        "Covariance is a single number that measures linear relationships between variables\n",
        "<br>\n",
        "To compute a correlation you first have to compute the covariance and then you normalize the covariance\n",
        "<br>\n",
        "Correlation is just covariance that has been sutibly scaled. Correlation is normalized to be independent of the data scale.\n",
        "<br>\n",
        "\n",
        "\n",
        "```\n",
        "c = 1/n-1 * sum(x[i]-np.mean(x))(y[i]-np.mean(y))\n",
        "```\n",
        "<br>\n",
        "\n",
        "*very similar to element wise multiplication*\n",
        "```\n",
        "r = sum(x-np.mean(x))(y-np.mean(y))/np.sqrt((sum(x-np.mean(x))**2) * (sum(y-np.mean(y))**2) )\n",
        "```\n",
        "<br>\n"
      ],
      "metadata": {
        "id": "WiQ2hDiikgmk"
      }
    },
    {
      "cell_type": "markdown",
      "source": [
        "P-Value of the Corr Coef\n",
        "<br>\n",
        "Statistical significance is computed from a t value that is based on the strength of the correlation and the number of data points\n",
        "\n",
        "\n",
        "```\n",
        "tn-2 = r(np.sqrt(n-2))/np.sqrt(1-r**2)\n",
        "```\n",
        "\n"
      ],
      "metadata": {
        "id": "xtCg8THWyb3_"
      }
    },
    {
      "cell_type": "markdown",
      "source": [],
      "metadata": {
        "id": "26iI1QQYybul"
      }
    },
    {
      "cell_type": "code",
      "execution_count": 2,
      "metadata": {
        "id": "uA7UKXrGj-t4"
      },
      "outputs": [],
      "source": [
        "import matplotlib.pyplot as plt\n",
        "import numpy as np\n",
        "import pandas as pd\n",
        "import scipy.stats as stats"
      ]
    },
    {
      "cell_type": "code",
      "source": [
        "#Stimulate data\n",
        "\n",
        "N = 77\n",
        "\n",
        "#generate correlated data\n",
        "x = np.random.randn(N)\n",
        "y = x + np.random.randn(N) #increase/decrease the noise to effect corr\n",
        "\n",
        "#Plot the data\n",
        "plt.plot(x,y,'kp', markerfacecolor='b', markersize=15)\n",
        "plt.xlabel('Variabel X')\n",
        "plt.ylabel('Variabel Y')\n",
        "plt.xticks([])\n",
        "plt.yticks([])\n",
        "\n",
        "plt.show()"
      ],
      "metadata": {
        "colab": {
          "base_uri": "https://localhost:8080/",
          "height": 426
        },
        "id": "NDZDGE4f44LM",
        "outputId": "a88703fa-555c-4ebf-9be2-89cd7e012723"
      },
      "execution_count": 3,
      "outputs": [
        {
          "output_type": "display_data",
          "data": {
            "text/plain": [
              "<Figure size 640x480 with 1 Axes>"
            ],
            "image/png": "[encoded data removed]"
          },
          "metadata": {}
        }
      ]
    },
    {
      "cell_type": "code",
      "source": [
        "#Compute covariance\n",
        "\n",
        "meanX = np.mean(x)\n",
        "meanY = np.mean(y)\n",
        "\n",
        "###loop the method\n",
        "\n",
        "#initalize covar var\n",
        "covar1 = 0\n",
        "\n",
        "for i in range(N):\n",
        "  covar1 = covar1 + (x[i]- meanX) * (y[i]- meanY)\n",
        "\n",
        "#normalization\n",
        "covar1 = covar1/(N-1)\n",
        "\n",
        "\n",
        "#Linear Alegbra method\n",
        "xCent = x-meanX\n",
        "yCent = y-meanY\n",
        "covar2 = np.dot(xCent,yCent)/(N-1)\n",
        "\n",
        "#Python Method\n",
        "covar3 = np.cov(np.vstack((x,y)))\n",
        "\n",
        "print(covar1, covar2, covar3)"
      ],
      "metadata": {
        "colab": {
          "base_uri": "https://localhost:8080/"
        },
        "id": "mC3MhRjE5Xui",
        "outputId": "c70c341b-3583-4e25-e7e0-290dc70e3623"
      },
      "execution_count": 4,
      "outputs": [
        {
          "output_type": "stream",
          "name": "stdout",
          "text": [
            "1.0716374991279078 1.0716374991279078 [[1.0389734  1.0716375 ]\n",
            " [1.0716375  2.12450414]]\n"
          ]
        }
      ]
    },
    {
      "cell_type": "code",
      "source": [
        "#Correlation\n",
        "\n",
        "corr_num = sum( (x-meanX) * (y-meanY) )\n",
        "corr_den = sum((x-meanX)**2 * sum((y-meanY)**2 ))\n",
        "corr1 = corr_num/np.sqrt(corr_den)\n",
        "\n",
        "\n",
        "#Python Method\n",
        "corr2 = np.corrcoef(np.vstack((x,y)))\n",
        "\n",
        "print(corr1)\n",
        "print(corr2)"
      ],
      "metadata": {
        "colab": {
          "base_uri": "https://localhost:8080/"
        },
        "id": "BNSdXKYV7pU5",
        "outputId": "528b7200-0544-4d6e-cc89-b2dc7c213765"
      },
      "execution_count": 5,
      "outputs": [
        {
          "output_type": "stream",
          "name": "stdout",
          "text": [
            "0.7213016029480329\n",
            "[[1.        0.7213016]\n",
            " [0.7213016 1.       ]]\n"
          ]
        }
      ]
    },
    {
      "cell_type": "markdown",
      "source": [
        "You can compute the covariance of two variables and if the variables have a mean of 0 and a variance of 1then the covar == corrcoef"
      ],
      "metadata": {
        "id": "_v_yTiVG-VX4"
      }
    },
    {
      "cell_type": "code",
      "source": [
        "xn = stats.zscore(x,ddof=1)\n",
        "yn = stats.zscore(y, ddof=1)\n",
        "\n",
        "corr3 = np.dot(xn,yn)/(N-1)\n",
        "\n",
        "print(corr3)"
      ],
      "metadata": {
        "colab": {
          "base_uri": "https://localhost:8080/"
        },
        "id": "02olHEen9ogc",
        "outputId": "b72a472f-3681-432a-8429-0d36db53fe5b"
      },
      "execution_count": 6,
      "outputs": [
        {
          "output_type": "stream",
          "name": "stdout",
          "text": [
            "0.7213016029480329\n"
          ]
        }
      ]
    },
    {
      "cell_type": "code",
      "source": [
        "#find the statistical significance\n",
        "r,p = stats.pearsonr(x,y)"
      ],
      "metadata": {
        "id": "kOZDOL2Q-98Q"
      },
      "execution_count": 7,
      "outputs": []
    },
    {
      "cell_type": "code",
      "source": [
        "print(r)\n",
        "print(p)"
      ],
      "metadata": {
        "colab": {
          "base_uri": "https://localhost:8080/"
        },
        "id": "A3cCxyNYAIRi",
        "outputId": "96f3a236-eb70-4900-e7e9-44fe9a0fa1c8"
      },
      "execution_count": 8,
      "outputs": [
        {
          "output_type": "stream",
          "name": "stdout",
          "text": [
            "0.7213016029480332\n",
            "1.370776466178809e-13\n"
          ]
        }
      ]
    },
    {
      "cell_type": "markdown",
      "source": [
        "**Correlation Matrix**\n",
        "<br>\n",
        "A symmetric matrix, meaning that all the elements above the diagonal and to the right are going to mirror exactly the elements below and to the left\n",
        "<br>\n"
      ],
      "metadata": {
        "id": "Rb-oSTIJSWAY"
      }
    },
    {
      "cell_type": "code",
      "source": [
        "!pip install pingouin"
      ],
      "metadata": {
        "colab": {
          "base_uri": "https://localhost:8080/"
        },
        "collapsed": true,
        "id": "1XvGkEeuYmgt",
        "outputId": "40201e41-9d31-4911-f11d-3d689b60df3d"
      },
      "execution_count": 9,
      "outputs": [
        {
          "output_type": "stream",
          "name": "stdout",
          "text": [
            "Collecting pingouin\n",
            "  Downloading pingouin-0.5.5-py3-none-any.whl.metadata (19 kB)\n",
            "Requirement already satisfied: matplotlib in /usr/local/lib/python3.11/dist-packages (from pingouin) (3.10.0)\n",
            "Requirement already satisfied: numpy in /usr/local/lib/python3.11/dist-packages (from pingouin) (2.0.2)\n",
            "Requirement already satisfied: pandas>=1.5 in /usr/local/lib/python3.11/dist-packages (from pingouin) (2.2.2)\n",
            "Collecting pandas-flavor (from pingouin)\n",
            "  Downloading pandas_flavor-0.6.0-py3-none-any.whl.metadata (6.3 kB)\n",
            "Requirement already satisfied: scikit-learn>=1.2 in /usr/local/lib/python3.11/dist-packages (from pingouin) (1.6.1)\n",
            "Requirement already satisfied: scipy in /usr/local/lib/python3.11/dist-packages (from pingouin) (1.14.1)\n",
            "Requirement already satisfied: seaborn in /usr/local/lib/python3.11/dist-packages (from pingouin) (0.13.2)\n",
            "Requirement already satisfied: statsmodels in /usr/local/lib/python3.11/dist-packages (from pingouin) (0.14.4)\n",
            "Requirement already satisfied: tabulate in /usr/local/lib/python3.11/dist-packages (from pingouin) (0.9.0)\n",
            "Requirement already satisfied: python-dateutil>=2.8.2 in /usr/local/lib/python3.11/dist-packages (from pandas>=1.5->pingouin) (2.8.2)\n",
            "Requirement already satisfied: pytz>=2020.1 in /usr/local/lib/python3.11/dist-packages (from pandas>=1.5->pingouin) (2025.1)\n",
            "Requirement already satisfied: tzdata>=2022.7 in /usr/local/lib/python3.11/dist-packages (from pandas>=1.5->pingouin) (2025.1)\n",
            "Requirement already satisfied: joblib>=1.2.0 in /usr/local/lib/python3.11/dist-packages (from scikit-learn>=1.2->pingouin) (1.4.2)\n",
            "Requirement already satisfied: threadpoolctl>=3.1.0 in /usr/local/lib/python3.11/dist-packages (from scikit-learn>=1.2->pingouin) (3.6.0)\n",
            "Requirement already satisfied: contourpy>=1.0.1 in /usr/local/lib/python3.11/dist-packages (from matplotlib->pingouin) (1.3.1)\n",
            "Requirement already satisfied: cycler>=0.10 in /usr/local/lib/python3.11/dist-packages (from matplotlib->pingouin) (0.12.1)\n",
            "Requirement already satisfied: fonttools>=4.22.0 in /usr/local/lib/python3.11/dist-packages (from matplotlib->pingouin) (4.56.0)\n",
            "Requirement already satisfied: kiwisolver>=1.3.1 in /usr/local/lib/python3.11/dist-packages (from matplotlib->pingouin) (1.4.8)\n",
            "Requirement already satisfied: packaging>=20.0 in /usr/local/lib/python3.11/dist-packages (from matplotlib->pingouin) (24.2)\n",
            "Requirement already satisfied: pillow>=8 in /usr/local/lib/python3.11/dist-packages (from matplotlib->pingouin) (11.1.0)\n",
            "Requirement already satisfied: pyparsing>=2.3.1 in /usr/local/lib/python3.11/dist-packages (from matplotlib->pingouin) (3.2.1)\n",
            "Requirement already satisfied: xarray in /usr/local/lib/python3.11/dist-packages (from pandas-flavor->pingouin) (2025.1.2)\n",
            "Requirement already satisfied: patsy>=0.5.6 in /usr/local/lib/python3.11/dist-packages (from statsmodels->pingouin) (1.0.1)\n",
            "Requirement already satisfied: six>=1.5 in /usr/local/lib/python3.11/dist-packages (from python-dateutil>=2.8.2->pandas>=1.5->pingouin) (1.17.0)\n",
            "Downloading pingouin-0.5.5-py3-none-any.whl (204 kB)\n",
            "\u001b[2K   \u001b[90m━━━━━━━━━━━━━━━━━━━━━━━━━━━━━━━━━━━━━━━━\u001b[0m \u001b[32m204.4/204.4 kB\u001b[0m \u001b[31m3.3 MB/s\u001b[0m eta \u001b[36m0:00:00\u001b[0m\n",
            "\u001b[?25hDownloading pandas_flavor-0.6.0-py3-none-any.whl (7.2 kB)\n",
            "Installing collected packages: pandas-flavor, pingouin\n",
            "Successfully installed pandas-flavor-0.6.0 pingouin-0.5.5\n"
          ]
        }
      ]
    },
    {
      "cell_type": "code",
      "source": [
        "import pingouin as pg"
      ],
      "metadata": {
        "id": "hVxQs9osAKzt"
      },
      "execution_count": 10,
      "outputs": []
    },
    {
      "cell_type": "code",
      "source": [
        "#Partial Corr\n",
        "\n",
        "\n",
        "#row corr\n",
        "rmg = .7\n",
        "rsg = .8\n",
        "rms = .9\n",
        "\n",
        "#Partial Correlations\n",
        "rho_mg_s = (rmg - rsg*rms)/ (np.sqrt(1-rsg**2)*np.sqrt(1-rms**2))\n",
        "rho_sg_m = (rsg - rmg*rms)/ (np.sqrt(1-rmg**2)*np.sqrt(1-rms**2))\n",
        "\n",
        "print(rho_mg_s)\n",
        "print(rho_sg_m)"
      ],
      "metadata": {
        "colab": {
          "base_uri": "https://localhost:8080/"
        },
        "id": "dYqRakEbYW0p",
        "outputId": "e082ea36-eb5c-427a-9b0e-b1a5a7e3a613"
      },
      "execution_count": 11,
      "outputs": [
        {
          "output_type": "stream",
          "name": "stdout",
          "text": [
            "-0.07647191129018778\n",
            "0.5461186812727504\n"
          ]
        }
      ]
    },
    {
      "cell_type": "code",
      "source": [
        "#Partial Correlation with a lot of data points\n",
        "\n",
        "N = 80\n",
        "\n",
        "#correlated datasets\n",
        "x1 = np.linspace(1,10,N) + np.random.randn(N)\n",
        "x2 = x1 + np.random.randn(N)\n",
        "x3 = x1 +  np.random.randn(N)\n",
        "\n",
        "#convert into a dataframe\n",
        "df = pd.DataFrame()\n",
        "df['x1'] = x1\n",
        "df['x2'] = x2\n",
        "df['x3'] = x3\n",
        "\n",
        "#compute the corr matrix\n",
        "cormatR = df.corr()\n",
        "print(cormatR)\n",
        "\n",
        "#print out one value\n",
        "print('')\n",
        "print(cormatR.values[1,0])\n",
        "\n",
        "#partial corr\n",
        "pc = pg.partial_corr(df,x='x3', y='x2', covar='x1')\n",
        "\n",
        "print('')\n",
        "print(pc)"
      ],
      "metadata": {
        "colab": {
          "base_uri": "https://localhost:8080/"
        },
        "id": "MqEgCKb5aMdL",
        "outputId": "3693752f-215b-425c-880d-ec669b6085cc"
      },
      "execution_count": 12,
      "outputs": [
        {
          "output_type": "stream",
          "name": "stdout",
          "text": [
            "          x1        x2        x3\n",
            "x1  1.000000  0.942997  0.942047\n",
            "x2  0.942997  1.000000  0.898244\n",
            "x3  0.942047  0.898244  1.000000\n",
            "\n",
            "0.9429965268766625\n",
            "\n",
            "          n         r         CI95%     p-val\n",
            "pearson  80  0.088644  [-0.14, 0.3]  0.437244\n"
          ]
        }
      ]
    },
    {
      "cell_type": "markdown",
      "source": [
        "***Pearson correlation can over or under repersent relationships if they contain no linearities or outliers***\n"
      ],
      "metadata": {
        "id": "UEreEDI3eEiP"
      }
    },
    {
      "cell_type": "markdown",
      "source": [
        "**Nonparametric Correlation: Spearman Correlation**\n",
        "<br>\n",
        "Spearman's Rho test for monotonic relationship, regardless of whether the relationship is linear or nonlinear\n",
        "<br>\n",
        "*Monotonic relationship test for increasing or decreasing numbers, regardless of the spacing between the numbers*"
      ],
      "metadata": {
        "id": "8JIew9Nd7zzm"
      }
    },
    {
      "cell_type": "markdown",
      "source": [
        "**How to compute the Spearmam Correlation**\n",
        "* Step 1: Transform both variables to rank - **there are no outliers with rank**\n",
        "* Step 2: Compute the Pearson correlation coefficients on ranks\n",
        "<br>\n",
        "\n",
        "**this is why Spearman correlation is robust to outliers, and scalaing effects**\n",
        "<br>\n",
        "* P-Value: Same as for 'regular' Pearson Coefficient\n"
      ],
      "metadata": {
        "id": "IB1n1Zf87zm3"
      }
    },
    {
      "cell_type": "markdown",
      "source": [
        "**Fisher-Z transform for correlation**\n",
        "It is not possible to have a correlation coefficient less than -1 or greater than 1 and that is by design, because it facilitates interpretation and that interpretation is independent of the data.\n",
        "<br>\n",
        "Depending on the use cases on those corr coef you may need to apply a transformation. That transformation is called *Fisher-Z*"
      ],
      "metadata": {
        "id": "-VNu-aVk7zfB"
      }
    },
    {
      "cell_type": "markdown",
      "source": [
        "***Why do correlations need a transformation**\n",
        "<br>\n",
        "The correlation coefficient are uniformly distributed and are bound by -1/+1\n",
        "<br>\n",
        "However there are analytical methods that assume your data are drawn from a normal gaussian distribution\n",
        "<br>\n",
        "If the end goal is just interpretation then it is not an issue but if you will be doing secondary analysis then you would need to transformations done on the correlation coefficients in to a guassian scale."
      ],
      "metadata": {
        "id": "aef2u4u6A7O_"
      }
    },
    {
      "cell_type": "markdown",
      "source": [
        "**Fisher-Z**\n",
        "\n",
        "```\n",
        "Zr = .5*logn(1+r/1-r)\n",
        "```\n",
        "\n",
        "The F-Z doesnt have a strong effect on most of the values until you get closer to the respective -1/+1 and visually you would see its strecthing out the tails"
      ],
      "metadata": {
        "id": "bzf9QuIAA7KG"
      }
    },
    {
      "cell_type": "code",
      "source": [
        "## Anscobe's quartet\n",
        "\n",
        "anscombe = np.array([\n",
        "     # series 1     series 2      series 3       series 4\n",
        "    [10,  8.04,    10,  9.14,    10,  7.46,      8,  6.58, ],\n",
        "    [ 8,  6.95,     8,  8.14,     8,  6.77,      8,  5.76, ],\n",
        "    [13,  7.58,    13,  8.76,    13, 12.74,      8,  7.71, ],\n",
        "    [ 9,  8.81,     9,  8.77,     9,  7.11,      8,  8.84, ],\n",
        "    [11,  8.33,    11,  9.26,    11,  7.81,      8,  8.47, ],\n",
        "    [14,  9.96,    14,  8.10,    14,  8.84,      8,  7.04, ],\n",
        "    [ 6,  7.24,     6,  6.13,     6,  6.08,      8,  5.25, ],\n",
        "    [ 4,  4.26,     4,  3.10,     4,  5.39,      8,  5.56, ],\n",
        "    [12, 10.84,    12,  9.13,    12,  8.15,      8,  7.91, ],\n",
        "    [ 7,  4.82,     7,  7.26,     7,  6.42,      8,  6.89, ],\n",
        "    [ 5,  5.68,     5,  4.74,     5,  5.73,     19, 12.50, ]\n",
        "    ])"
      ],
      "metadata": {
        "id": "yGBKqNJT7zBw"
      },
      "execution_count": 13,
      "outputs": []
    },
    {
      "cell_type": "code",
      "source": [
        "#plot and compute correlations\n",
        "fig, ax = plt.subplots(2,2, figsize=(6,6))\n",
        "ax = ax.ravel()\n",
        "\n",
        "for i in range(4):\n",
        "  ax[i].plot(anscombe[:, i*2], anscombe[:, i*2+1], 'ko')\n",
        "  ax[i].set_xticks([])\n",
        "  ax[i].set_yticks([])\n",
        "  corr_p = stats.pearsonr(anscombe[:,i*2],anscombe[:,i*2+1])[0]\n",
        "  corr_s = stats.spearmanr(anscombe[:,i*2],anscombe[:,i*2+1])[0]\n",
        "  ax[i].set_title('r_p = %g, r_s = %g'%(np.round(corr_p*100)/100, np.round(corr_s*100)/100 ))"
      ],
      "metadata": {
        "colab": {
          "base_uri": "https://localhost:8080/",
          "height": 521
        },
        "id": "mHThkTnhF7q3",
        "outputId": "3284c027-c57e-4540-aa50-afa1da763bab"
      },
      "execution_count": 18,
      "outputs": [
        {
          "output_type": "display_data",
          "data": {
            "text/plain": [
              "<Figure size 600x600 with 4 Axes>"
            ],
            "image/png": "[encoded data removed]"
          },
          "metadata": {}
        }
      ]
    },
    {
      "cell_type": "code",
      "source": [
        "##Fisher Z-transform\n",
        "\n",
        "#stimulate correlation coefficients\n",
        "N = 1000\n",
        "r = 2 * np.random.rand(N) - 1\n",
        "\n",
        "#Fisher-Z\n",
        "fz = np.arctanh(r)\n",
        "\n",
        "#overlay rhe Fisher-Z\n",
        "y,x = np.histogram(fz,30)\n",
        "x = (x[1:] + x[0:-1])/2\n",
        "plt.bar(x,y)\n",
        "\n",
        "#raw correlations\n",
        "y,x = np.histogram(r,30)\n",
        "x = (x[1:] + x[0:-1])/2\n",
        "plt.bar(x,y)\n",
        "\n",
        "plt.xlabel('r/f')\n",
        "plt.ylabel('Count')\n",
        "plt.legend(('Fisher-Z', 'Raw'))\n",
        "\n",
        "plt.show()"
      ],
      "metadata": {
        "colab": {
          "base_uri": "https://localhost:8080/",
          "height": 449
        },
        "id": "q5LSPbmQPw1y",
        "outputId": "9a6281c3-a374-4ef7-e39e-962ebdf5ccbb"
      },
      "execution_count": 24,
      "outputs": [
        {
          "output_type": "display_data",
          "data": {
            "text/plain": [
              "<Figure size 640x480 with 1 Axes>"
            ],
            "image/png": "[encoded data removed]"
          },
          "metadata": {}
        }
      ]
    },
    {
      "cell_type": "code",
      "source": [
        "plt.plot(range(N), np.sort(r), '*', markerfacecolor='w', markersize=7)\n",
        "plt.plot(range(N), np.sort(fz), '*', markerfacecolor='w', markersize=7)\n",
        "plt.ylabel('Value')\n",
        "plt.legend(('Corr', 'Fisher-Z'))\n",
        "\n",
        "plt.show()"
      ],
      "metadata": {
        "colab": {
          "base_uri": "https://localhost:8080/",
          "height": 430
        },
        "id": "UVTofkaAQh7g",
        "outputId": "96973307-7540-41dc-b9ca-bce96c8f0e0b"
      },
      "execution_count": 26,
      "outputs": [
        {
          "output_type": "display_data",
          "data": {
            "text/plain": [
              "<Figure size 640x480 with 1 Axes>"
            ],
            "image/png": "[encoded data removed]"
          },
          "metadata": {}
        }
      ]
    },
    {
      "cell_type": "markdown",
      "source": [
        "**Kendall's Correlation**\n",
        "<br>\n",
        "Used for ordinal data(numerical meaningful order, but no fixed relationship across the levels)\n",
        "<br>\n",
        "*How It works*\n",
        "<br>\n",
        "Transform the data to rank concordances(relative signs across the values per variable)\n",
        "<br>\n",
        "***Kendall tau-b*** has an adjustment for ties, and is most often used\n",
        "<br>\n",
        "Interpretation is identical to Pearson and Spearman"
      ],
      "metadata": {
        "id": "4hGqPWUxS5y0"
      }
    },
    {
      "cell_type": "code",
      "source": [],
      "metadata": {
        "id": "TK9VaN1cTNeO"
      },
      "execution_count": null,
      "outputs": []
    }
  ]
}