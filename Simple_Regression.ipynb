{
  "nbformat": 4,
  "nbformat_minor": 0,
  "metadata": {
    "colab": {
      "provenance": [],
      "mount_file_id": "19rlTo40V1o1XXhjGTpJZQSZ2L-FnBMn6",
      "authorship_tag": "ABX9TyMWEZtvsZF2e0bGblzu6mFR",
      "include_colab_link": true
    },
    "kernelspec": {
      "name": "python3",
      "display_name": "Python 3"
    },
    "language_info": {
      "name": "python"
    }
  },
  "cells": [
    {
      "cell_type": "markdown",
      "metadata": {
        "id": "view-in-github",
        "colab_type": "text"
      },
      "source": [
        "<a href=\"https://colab.research.google.com/github/chayvw18/Master-Statistics-ML/blob/main/Simple_Regression.ipynb\" target=\"_parent\"><img src=\"https://colab.research.google.com/assets/colab-badge.svg\" alt=\"Open In Colab\"/></a>"
      ]
    },
    {
      "cell_type": "code",
      "source": [
        "%cd /content/drive/MyDrive/MasterStats"
      ],
      "metadata": {
        "colab": {
          "base_uri": "https://localhost:8080/"
        },
        "id": "ht_cXAjAAlBf",
        "outputId": "2081bd47-f72e-49b2-e03f-4f7277725b92"
      },
      "execution_count": 1,
      "outputs": [
        {
          "output_type": "stream",
          "name": "stdout",
          "text": [
            "/content/drive/MyDrive/MasterStats\n"
          ]
        }
      ]
    },
    {
      "cell_type": "markdown",
      "source": [
        "**Introduction to GLM/ Regression**\n",
        "<br>\n",
        "We have our data, which is a bunch of numbers that are measured from the world somehow. Then we have a mathmetical model, which is a set of mathematical equations that we define.\n",
        "<br>\n",
        "The idea is we want to match the model with the data, and see how the model matches the data.\n",
        "<br>\n",
        "You break down the model even more to additional parts, **Fixed Features and Free Parameters**\n",
        "<br>\n",
        "Fixed features are the components of the model that we as the researcher get to define these features.\n",
        "<br>\n",
        "This is based of theory and intuition and what you expect from the data.\n",
        "<br>\n",
        "Free Parameters are immutable. The things we allow to change numerically dpending on well the model fits the data.\n",
        "<br>\n",
        "\n",
        "***ANOVA vs Regression***\n",
        "* ANOVA is used when all Independent Variables are discrete *usually categorical*\n",
        "* Regression is used when at least some independent variables are continous\n",
        "<br>\n",
        "**The Five Steps to model fitting**\n",
        "1. Defone the equations underlying the model.\n",
        "2. Map the data into the model quation\n",
        "3. Convert the equations into a matrix vector equation\n",
        "4. Compute the parameters\n",
        "5. Statistical evaluation of the\n",
        "* Step 5 has two questions\n",
        "** Is the model a good fit to the data?\n",
        "** Are individual Beta coefficients statistically significant\n",
        "\n",
        "```\n",
        "h = Beta0 + Beta1 S + Beta2 P + Beta3n\n",
        "```\n",
        "h = height\n",
        "<br>\n",
        "Beta0 = intercept when all other parameters are 0\n",
        "<br>\n",
        "s = sex (male/ female)\n",
        "<br>\n",
        "p = parents height\n",
        "<br>\n",
        "n = childhood nutrition\n",
        "<br>\n",
        "The intercept term is usually not interpreted and usakky not very intresting, **but it needs to be in the model because it captures the offset of the data when all other predictors are set to 0**"
      ],
      "metadata": {
        "id": "hBoA9vxGBETG"
      }
    },
    {
      "cell_type": "markdown",
      "source": [
        "***Linear means addition and scalar multiplication***\n",
        "<br>\n",
        "GLMs (**ANOVA Regression, Correlation**) are linear models\n",
        "<br>\n",
        "*Log, square root, powers, trigonometry, are all nonlinear operations*\n",
        "<br>\n",
        "*the data can have nonlinearities; only the parameters must be linear in the model*\n"
      ],
      "metadata": {
        "id": "G1NH1n7BBEMX"
      }
    },
    {
      "cell_type": "markdown",
      "source": [
        "**Linear Least Squares**\n",
        "<br>\n",
        "*via left inverse*\n",
        "X Beta = y\n",
        "<br>\n",
        "X is the deisgn matrix,\n",
        "<br>\n",
        "Beta is the vector of regression coefficients, and what we solve for.\n",
        "<br>\n",
        "y is the dependent variable\n",
        "<br>\n",
        "and we then want to solve for Beta\n",
        "<br>\n",
        "We want to isolate Beta and since x is a matrix we can not divide in linear algebra\n",
        "<br>\n",
        "since x which is the design matrix is a tall matrix it does not have an inverse becasue those are for square matrices\n",
        "<br>\n",
        "If you assume some conditions on the design matrix we can apply the one sided inverse/ left inverse\n",
        "<br>\n",
        "the left inverse multiplication will isolate Beta, its an closed form anallytic solution, it can be proven mathematically.\n",
        "<br>\n",
        "**Conditions on X for left inverse to exist**\n",
        "<br>\n",
        "1. Tall Matrix, more rows than columns which means it more observations than features\n",
        "2. Independent Independent Variables, can not be scalar multiples of each other or that they could be combined together\n",
        "**ties directly to multicollinearity**"
      ],
      "metadata": {
        "id": "NriTnZdaBEFK"
      }
    },
    {
      "cell_type": "markdown",
      "source": [
        "**Evaluating Regression Models R2 and F**\n",
        "```\n",
        "y = Beta0 + Beta1 x1 + ... + Betak xk + epsilon  \n",
        "```\n",
        "```\n",
        "epsilon = y - (Beta0 + Beta1 x1 + ... + Betak xk)\n",
        "```\n",
        "```\n",
        "yhat = Beta0 + Beta1 x1 + ... + Betak xk\n",
        "```\n",
        "```\n",
        "epsilon = y - yhat\n",
        "```\n",
        "```\n",
        "R2 = 1 - SS epsilon / SS Total == 1 - sum(y - yhat)**2 / sum(y - ymean)**2\n",
        "```\n",
        "same sum of square total from ANOVA , very similar to variance just without the scaling by n-1\n",
        "<br>\n",
        "\n",
        "for the sum of sqaures epsilon , instead of subtracting off the mean of the data we are substracting the model fit/ model prediction\n",
        "<br>\n",
        "\n",
        "R2 close to 1 means the model fits the data well\n",
        "<br>\n",
        "\n",
        "R2 close to 0 means the model fits the data poorly\n",
        "<br>\n",
        "\n",
        "R2 below 0 is mostly due to an error, in terms of statistical modeling it means the predicted data is predicting worse than the mean\n",
        "<br>\n",
        "\n",
        "*There is no cut off for a good R2, R2 is often used in model comparison*\n",
        "<br>\n",
        "**Evaluating model statistical signigificance with F**\n",
        "```\n",
        "H0: Beta 1-k = 0\n",
        "```\n",
        "The H0 allows for a none zero Beta0 , a significant intercept but all of the other coefficients from 1-k\n",
        "<br>\n",
        "\n",
        "where k is the number of parameters in the model. The number of regressors the number of independent variables all equal to 0\n",
        "```\n",
        "HA: At least one Beta =! 0\n",
        "```\n",
        "```\n",
        "ss epsilon =  sum(y - yhat)**2 , ss model = sum(yhat - ymean)**2\n",
        "```\n",
        "```\n",
        "F(k -1, N-k) = SS Model/ (k - 1) / SS Epsilon / (N - k) k it the total number of parameters including the parameter\n",
        "```\n",
        "The F statistic tells us about the entire model, it doesnt say anything about any individual Beta coefficient.\n",
        "<br>\n",
        "\n",
        "It doesnt tell us whether the individual regression coefficients are significant\n",
        "<br>\n",
        "**Significance of individual Beta Coefficients**\n",
        "```\n",
        "tN-k = Betaj / STD Beta\n",
        "```\n",
        "STD Beta the square root of the mean square of the residuals  multiplied by the design matrix"
      ],
      "metadata": {
        "id": "7nrU4Tk7BD_d"
      }
    },
    {
      "cell_type": "markdown",
      "source": [
        "**Simple Regression**\n",
        "<br>\n",
        "Simple Regression has one dependent variable and one independent *technically two IVs including the intercept*\n",
        "```\n",
        "yi = Beta0 + Beta1 xi + epsilon\n",
        "```\n",
        "```\n",
        "epsilon i = yi - (Beta0 + Beta1 xi) 'model predicted area'\n",
        "```"
      ],
      "metadata": {
        "id": "EM-tGTlkBD5U"
      }
    },
    {
      "cell_type": "code",
      "execution_count": 1,
      "metadata": {
        "id": "HHmhomfH_8Ln"
      },
      "outputs": [],
      "source": [
        "import numpy as np\n",
        "import pandas as pd\n",
        "import matplotlib.pyplot as plt\n",
        "from scipy import stats"
      ]
    },
    {
      "cell_type": "code",
      "source": [
        "#effects of sleep on food spending\n",
        "sleepHours = [5, 5.5, 6, 6, 7, 7, 7.5, 8, 8.5, 9]\n",
        "dollars = [47, 53, 52, 44, 39, 49, 50, 38, 43, 40]\n",
        "\n",
        "#show the data\n",
        "plt.plot(sleepHours, dollars, 'ko', markerfacecolor='k')\n",
        "plt.xlabel('Hours of Sleep')\n",
        "plt.ylabel('Fijian dollars')\n",
        "plt.show()"
      ],
      "metadata": {
        "colab": {
          "base_uri": "https://localhost:8080/",
          "height": 449
        },
        "id": "fchwbHye3KND",
        "outputId": "62ae77c0-1805-4080-aefd-7ca8685f58cf"
      },
      "execution_count": 3,
      "outputs": [
        {
          "output_type": "display_data",
          "data": {
            "text/plain": [
              "<Figure size 640x480 with 1 Axes>"
            ],
            "image/png": "[encoded data removed]"
          },
          "metadata": {}
        }
      ]
    },
    {
      "cell_type": "code",
      "source": [
        "#manuel regression via least squares fitting\n",
        "\n",
        "#create the deisgn matrix\n",
        "desmat = np.vstack((np.ones(10), sleepHours)).T #tall matrix more features than rows\n",
        "\n",
        "#compute the beta parameters (regression coeifficents)\n",
        "beta = np.linalg.lstsq(desmat, dollars, rcond=None)[0]\n",
        "print(beta)\n",
        "\n",
        "#predicated data values\n",
        "yhat = desmat@beta"
      ],
      "metadata": {
        "colab": {
          "base_uri": "https://localhost:8080/"
        },
        "id": "kN4BGkQB3-wy",
        "outputId": "b6a17993-e042-43d7-c8ff-cdf8ca435bda"
      },
      "execution_count": 10,
      "outputs": [
        {
          "output_type": "stream",
          "name": "stdout",
          "text": [
            "[62.84737679 -2.49602544]\n"
          ]
        }
      ]
    },
    {
      "cell_type": "code",
      "source": [
        "#show previous data\n",
        "plt.plot(sleepHours, dollars, 'ko', markerfacecolor='k')\n",
        "\n",
        "\n",
        "#predicted valued\n",
        "plt.plot(sleepHours, yhat, 's--')\n",
        "\n",
        "#show the residuals\n",
        "for i in range(10):\n",
        "  plt.plot([sleepHours[i], sleepHours[i]], [dollars[i], yhat[i]], 'm--' )\n",
        "\n",
        "plt.xlabel('Hours of Sleep')\n",
        "plt.ylabel('Fijian dollars')\n",
        "plt.show()"
      ],
      "metadata": {
        "colab": {
          "base_uri": "https://localhost:8080/",
          "height": 449
        },
        "id": "3XK7ZDpO4hwD",
        "outputId": "c7607299-681e-4637-d698-85ce140651cf"
      },
      "execution_count": 12,
      "outputs": [
        {
          "output_type": "display_data",
          "data": {
            "text/plain": [
              "<Figure size 640x480 with 1 Axes>"
            ],
            "image/png": "[encoded data removed]"
          },
          "metadata": {}
        }
      ]
    },
    {
      "cell_type": "code",
      "source": [
        "#with scipy\n",
        "\n",
        "slope, intercept, r, p, std_err = stats.linregress(sleepHours, dollars)\n",
        "print(intercept, slope)\n",
        "print(beta)"
      ],
      "metadata": {
        "colab": {
          "base_uri": "https://localhost:8080/"
        },
        "id": "UEuxoRQs7oqk",
        "outputId": "7fe5e136-34d1-47fe-d79b-8105c9b04661"
      },
      "execution_count": 13,
      "outputs": [
        {
          "output_type": "stream",
          "name": "stdout",
          "text": [
            "62.84737678855326 -2.4960254372019075\n",
            "[62.84737679 -2.49602544]\n"
          ]
        }
      ]
    },
    {
      "cell_type": "code",
      "source": [],
      "metadata": {
        "id": "fQGJHUI675R3"
      },
      "execution_count": null,
      "outputs": []
    }
  ]
}