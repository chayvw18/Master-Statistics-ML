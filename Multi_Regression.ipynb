{
  "nbformat": 4,
  "nbformat_minor": 0,
  "metadata": {
    "colab": {
      "provenance": [],
      "mount_file_id": "1Jz5gjOP-LX5ACHhMXQccxk4uBh4kMAq4",
      "authorship_tag": "ABX9TyNcTgw5PKXeQ057fMRXmeZt",
      "include_colab_link": true
    },
    "kernelspec": {
      "name": "python3",
      "display_name": "Python 3"
    },
    "language_info": {
      "name": "python"
    }
  },
  "cells": [
    {
      "cell_type": "markdown",
      "metadata": {
        "id": "view-in-github",
        "colab_type": "text"
      },
      "source": [
        "<a href=\"https://colab.research.google.com/github/chayvw18/Master-Statistics-ML/blob/main/Multi_Regression.ipynb\" target=\"_parent\"><img src=\"https://colab.research.google.com/assets/colab-badge.svg\" alt=\"Open In Colab\"/></a>"
      ]
    },
    {
      "cell_type": "code",
      "source": [
        "%cd /content/drive/MyDrive/MasterStats"
      ],
      "metadata": {
        "colab": {
          "base_uri": "https://localhost:8080/"
        },
        "id": "0qxo78Qv-Ppz",
        "outputId": "ef3dd72a-b388-4b59-9095-6f14c0afaada"
      },
      "execution_count": 1,
      "outputs": [
        {
          "output_type": "stream",
          "name": "stdout",
          "text": [
            "/content/drive/MyDrive/MasterStats\n"
          ]
        }
      ]
    },
    {
      "cell_type": "markdown",
      "source": [
        "**Multiple Regression**\n",
        "<br>\n",
        "Simialr to ANOVA where it can be a non significant main effect but a sigificant interaction\n",
        "```\n",
        "y = Beta0 + Beta1 s + Beta2 h + Beta3(s x h) + epsilon\n",
        "```\n",
        "to implement an interaction term between multiple regressors you just simply multiply them.\n",
        "<br>\n",
        "**Precise Interpretation of Beta in Regression**\n",
        "<br>\n",
        "\n",
        "*Interpretation:* Beta reflects the effect of a chnage in 'h' on 'y' when all other variables are held constant"
      ],
      "metadata": {
        "id": "LxIomkrq-Ebo"
      }
    },
    {
      "cell_type": "markdown",
      "source": [
        "**Standardized Regression Coefficients**\n",
        "<br>\n",
        "The beta coefficients you get from the regression model , the raw output, those are unstandardized beta regressions.\n",
        "<br>\n",
        "The beta1 coefficients is interpreted as an 1 unit increase / change\n",
        "<br>\n",
        "unstandarized beta coefficients change depending on the scale of the Independent Variable\n",
        "<br>\n",
        "unstandarized beta coefficients can be difficult to compare across variables\n",
        "<br>\n",
        "These difficulties motivate a standardized of beta coefficients\n",
        "<br>\n",
        "standardized means that the data will have the same beta coefficients regardless of the original units of the data\n",
        "<br>\n",
        "Unstandardized beta coefficients reflect the scales of the data (IV and DV). This can faciliate interpretation but can also stymie comparisons across variables or models\n",
        "<br>\n",
        "Standardized beta coefficients are in standard deviation units, unrelated to the scales of the data.\n",
        "<br>\n",
        "Both are correct and neither is beteer; sometimes one is more natural or easier to interpret than the other\n",
        "<br>\n",
        "Standardization has no effect on the statistics.\n",
        "<br>\n",
        "**How to standardized regressors**\n",
        "<br>\n",
        "\n",
        "*Method 1*: z-normalization dependent variable and independent variables before the regression. All betas will be in the units of the data, which are already standard deviation units\n",
        "<br>\n",
        "*Method 2*: Scale the unstandardized beta by the standard deviations of the IV and the corresponding DV\n",
        "```\n",
        "b k = betak = std x k / std y\n",
        "```\n",
        "Interpretation: Beta2 reflects the effect of a one standard deviation change in h on standard deviation changes in y, *when all other variables are held constant*"
      ],
      "metadata": {
        "id": "2tWffrMG-ETy"
      }
    },
    {
      "cell_type": "code",
      "source": [
        "import numpy as np\n",
        "import matplotlib.pyplot as plt\n",
        "import scipy.stats as stats\n",
        "\n",
        "from sklearn.linear_model import LinearRegression\n",
        "import statsmodels.formula.api as sm"
      ],
      "metadata": {
        "id": "XiCAj9j4j6ge"
      },
      "execution_count": 1,
      "outputs": []
    },
    {
      "cell_type": "code",
      "execution_count": 3,
      "metadata": {
        "id": "rpzyg2QD953l"
      },
      "outputs": [],
      "source": [
        "## example: effect of sleep and study hpurs on exam scores\n",
        "\n",
        "exam_scores = []\n",
        "for ei in range(5):\n",
        "    exam_scores = np.hstack((exam_scores,60*np.ones(6)+np.linspace(-1,5,6)*ei))\n",
        "\n",
        "hours_studied = np.tile(np.linspace(2,8,6),5)\n",
        "ave_sleep_hrs = np.linspace(6,10,30)"
      ]
    },
    {
      "cell_type": "code",
      "source": [
        "## plot the data\n",
        "\n",
        "### stratify by hours studied\n",
        "\n",
        "# fewer than 4 hours studied\n",
        "plotidx = hours_studied<4.1\n",
        "plt.plot(ave_sleep_hrs[plotidx],exam_scores[plotidx],'ko',markerfacecolor='k')\n",
        "\n",
        "# 5-6 hours studied\n",
        "plotidx = np.logical_and(hours_studied>4.9, hours_studied<6.1)\n",
        "plt.plot(ave_sleep_hrs[plotidx],exam_scores[plotidx],'ro',markerfacecolor='r')\n",
        "\n",
        "# more than 6 hours\n",
        "plotidx = hours_studied>6\n",
        "plt.plot(ave_sleep_hrs[plotidx],exam_scores[plotidx],'bo',markerfacecolor='b')\n",
        "\n",
        "plt.xlabel('Hours of sleep')\n",
        "plt.ylabel('Exam score')\n",
        "plt.legend(('<4 hours studied','5-6 hours studied','>7 hours studied'))\n",
        "plt.show()"
      ],
      "metadata": {
        "colab": {
          "base_uri": "https://localhost:8080/",
          "height": 449
        },
        "id": "Ko-U27SUkrB_",
        "outputId": "2c07847c-412d-4de2-ff1f-e7af147b4fdf"
      },
      "execution_count": 4,
      "outputs": [
        {
          "output_type": "display_data",
          "data": {
            "text/plain": [
              "<Figure size 640x480 with 1 Axes>"
            ],
            "image/png": "[encoded data removed]"
          },
          "metadata": {}
        }
      ]
    },
    {
      "cell_type": "code",
      "source": [
        "import statsmodels.api as sm"
      ],
      "metadata": {
        "id": "LigZXW7CmXtT"
      },
      "execution_count": 6,
      "outputs": []
    },
    {
      "cell_type": "code",
      "source": [
        "##multiple regression\n",
        "\n",
        "#build the design matrix\n",
        "desmat = np.vstack((np.ones((30)), ave_sleep_hrs, hours_studied*hours_studied)).T\n",
        "\n",
        "multireg = sm.OLS(endog = exam_scores, exog= desmat).fit()\n",
        "print(multireg.summary())"
      ],
      "metadata": {
        "colab": {
          "base_uri": "https://localhost:8080/"
        },
        "id": "x10mRvY_k4rC",
        "outputId": "5a967c1d-9658-4098-b55b-7cb71af0a8c1"
      },
      "execution_count": 9,
      "outputs": [
        {
          "output_type": "stream",
          "name": "stdout",
          "text": [
            "                            OLS Regression Results                            \n",
            "==============================================================================\n",
            "Dep. Variable:                      y   R-squared:                       0.736\n",
            "Model:                            OLS   Adj. R-squared:                  0.716\n",
            "Method:                 Least Squares   F-statistic:                     37.60\n",
            "Date:                Mon, 07 Apr 2025   Prob (F-statistic):           1.57e-08\n",
            "Time:                        00:16:21   Log-Likelihood:                -75.140\n",
            "No. Observations:                  30   AIC:                             156.3\n",
            "Df Residuals:                      27   BIC:                             160.5\n",
            "Df Model:                           2                                         \n",
            "Covariance Type:            nonrobust                                         \n",
            "==============================================================================\n",
            "                 coef    std err          t      P>|t|      [0.025      0.975]\n",
            "------------------------------------------------------------------------------\n",
            "const         39.6490      3.862     10.266      0.000      31.725      47.573\n",
            "x1             2.4347      0.487      5.003      0.000       1.436       3.433\n",
            "x2             0.1669      0.028      5.976      0.000       0.110       0.224\n",
            "==============================================================================\n",
            "Omnibus:                        1.933   Durbin-Watson:                   1.004\n",
            "Prob(Omnibus):                  0.380   Jarque-Bera (JB):                1.265\n",
            "Skew:                          -0.503   Prob(JB):                        0.531\n",
            "Kurtosis:                       3.029   Cond. No.                         249.\n",
            "==============================================================================\n",
            "\n",
            "Notes:\n",
            "[1] Standard Errors assume that the covariance matrix of the errors is correctly specified.\n"
          ]
        }
      ]
    },
    {
      "cell_type": "code",
      "source": [],
      "metadata": {
        "id": "KLuNg36omNTD"
      },
      "execution_count": null,
      "outputs": []
    }
  ]
}